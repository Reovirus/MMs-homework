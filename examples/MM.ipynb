{
 "cells": [
  {
   "attachments": {},
   "cell_type": "markdown",
   "id": "dc73ed23",
   "metadata": {},
   "source": [
    "Модели и скачивание - мини-библиотеки, моделька - под дз, качалка в какой-то сайдпроект, код либ прилагаю, документацию нет, ибо ее нет)))"
   ]
  },
  {
   "cell_type": "code",
   "execution_count": 94,
   "id": "559ce454",
   "metadata": {},
   "outputs": [],
   "source": [
    "import random\n",
    "\n",
    "import matplotlib.pyplot as plt\n",
    "import seaborn as sns\n",
    "import itertools as it\n",
    "import pandas as pd\n",
    "\n",
    "from collections import Counter\n",
    "from Bio import (\n",
    "    Entrez,\n",
    "    SeqIO\n",
    ")\n",
    "\n",
    "from mms import install_genomes as ig\n",
    "from mms import mms as mms\n",
    "from tqdm.notebook import tqdm_notebook"
   ]
  },
  {
   "cell_type": "code",
   "execution_count": 51,
   "id": "39876fc6",
   "metadata": {},
   "outputs": [],
   "source": [
    "PART_SIZE = 100000"
   ]
  },
  {
   "attachments": {},
   "cell_type": "markdown",
   "id": "2207544b",
   "metadata": {},
   "source": [
    "# Накачаем организмов для теста и модели (ну не вручную же, правда)"
   ]
  },
  {
   "attachments": {},
   "cell_type": "markdown",
   "id": "841e29df",
   "metadata": {},
   "source": [
    "Кишечные палки качаются плохо - потому что я скачиваю по DocumentSummarySet, который на них не заводят(. Тут, конечно, можно придраться к технической стороне вопроса, вообще eutils есть, конечно, но ничего страшного - колю найдем руками"
   ]
  },
  {
   "cell_type": "code",
   "execution_count": 52,
   "id": "09ab49ef",
   "metadata": {},
   "outputs": [],
   "source": [
    "orgnames = '''Candidatus Methanoplasma termitum\n",
    "Cuniculiplasma divulgatum\n",
    "Ferroplasma acidarmanus fer1\n",
    "Picrophilus torridus DSM 9790\n",
    "Thermoplasma acidophilum DSM 1728\n",
    "Escherichia coli (E. coli)'''"
   ]
  },
  {
   "cell_type": "code",
   "execution_count": 53,
   "id": "5216657c",
   "metadata": {},
   "outputs": [],
   "source": [
    "orgnames = orgnames.split('\\n')\n",
    "Entrez.email = \"your_email@blank.com\""
   ]
  },
  {
   "cell_type": "code",
   "execution_count": 54,
   "id": "a08e2370",
   "metadata": {
    "scrolled": true
   },
   "outputs": [
    {
     "name": "stderr",
     "output_type": "stream",
     "text": [
      "/Users/pitikov_egor/Documents/to_karina/mms/install_genomes/src/install_functions.py:49: UserWarning: No DocumentSummarySet for genome Escherichia coli (E. coli). Unable to download\n",
      "  warnings.warn(f'No DocumentSummarySet for genome {orgname}. Unable to download')\n"
     ]
    },
    {
     "name": "stdout",
     "output_type": "stream",
     "text": [
      "Downloading ftp://ftp.ncbi.nlm.nih.gov/genomes/all/GCF/000/800/805/GCF_000800805.1_ASM80080v1/GCF_000800805.1_ASM80080v1_genomic.fna.gz\n",
      "ftp://ftp.ncbi.nlm.nih.gov/genomes/all/GCF/000/800/805/GCF_000800805.1_ASM80080v1/GCF_000800805.1_ASM80080v1_genomic.fna.gz succefully downloaded\n",
      "Downloading ftp://ftp.ncbi.nlm.nih.gov/genomes/all/GCF/000/800/805/GCF_000800805.1_ASM80080v1/GCF_000800805.1_ASM80080v1_genomic.fna.gz\n",
      "Downloading ftp://ftp.ncbi.nlm.nih.gov/genomes/all/GCF/900/083/515/GCF_900083515.1_ASM90008351v1/GCF_900083515.1_ASM90008351v1_genomic.fna.gz\n",
      "ftp://ftp.ncbi.nlm.nih.gov/genomes/all/GCF/000/800/805/GCF_000800805.1_ASM80080v1/GCF_000800805.1_ASM80080v1_genomic.fna.gz succefully downloaded\n",
      "ftp://ftp.ncbi.nlm.nih.gov/genomes/all/GCF/900/083/515/GCF_900083515.1_ASM90008351v1/GCF_900083515.1_ASM90008351v1_genomic.fna.gz succefully downloaded\n",
      "Downloading ftp://ftp.ncbi.nlm.nih.gov/genomes/all/GCF/000/800/805/GCF_000800805.1_ASM80080v1/GCF_000800805.1_ASM80080v1_genomic.fna.gz\n",
      "Downloading ftp://ftp.ncbi.nlm.nih.gov/genomes/all/GCF/900/083/515/GCF_900083515.1_ASM90008351v1/GCF_900083515.1_ASM90008351v1_genomic.fna.gz\n",
      "Downloading ftp://ftp.ncbi.nlm.nih.gov/genomes/all/GCF/000/152/265/GCF_000152265.2_ASM15226v2/GCF_000152265.2_ASM15226v2_genomic.fna.gz\n",
      "ftp://ftp.ncbi.nlm.nih.gov/genomes/all/GCF/000/800/805/GCF_000800805.1_ASM80080v1/GCF_000800805.1_ASM80080v1_genomic.fna.gz succefully downloaded\n",
      "ftp://ftp.ncbi.nlm.nih.gov/genomes/all/GCF/000/152/265/GCF_000152265.2_ASM15226v2/GCF_000152265.2_ASM15226v2_genomic.fna.gz succefully downloaded\n",
      "ftp://ftp.ncbi.nlm.nih.gov/genomes/all/GCF/900/083/515/GCF_900083515.1_ASM90008351v1/GCF_900083515.1_ASM90008351v1_genomic.fna.gz succefully downloaded\n",
      "Downloading ftp://ftp.ncbi.nlm.nih.gov/genomes/all/GCF/000/800/805/GCF_000800805.1_ASM80080v1/GCF_000800805.1_ASM80080v1_genomic.fna.gz\n",
      "Downloading ftp://ftp.ncbi.nlm.nih.gov/genomes/all/GCF/900/083/515/GCF_900083515.1_ASM90008351v1/GCF_900083515.1_ASM90008351v1_genomic.fna.gz\n",
      "Downloading ftp://ftp.ncbi.nlm.nih.gov/genomes/all/GCF/000/152/265/GCF_000152265.2_ASM15226v2/GCF_000152265.2_ASM15226v2_genomic.fna.gz\n",
      "Downloading ftp://ftp.ncbi.nlm.nih.gov/genomes/all/GCF/000/008/265/GCF_000008265.1_ASM826v1/GCF_000008265.1_ASM826v1_genomic.fna.gz\n",
      "ftp://ftp.ncbi.nlm.nih.gov/genomes/all/GCF/000/152/265/GCF_000152265.2_ASM15226v2/GCF_000152265.2_ASM15226v2_genomic.fna.gz succefully downloaded\n",
      "ftp://ftp.ncbi.nlm.nih.gov/genomes/all/GCF/900/083/515/GCF_900083515.1_ASM90008351v1/GCF_900083515.1_ASM90008351v1_genomic.fna.gz succefully downloaded\n",
      "ftp://ftp.ncbi.nlm.nih.gov/genomes/all/GCF/000/008/265/GCF_000008265.1_ASM826v1/GCF_000008265.1_ASM826v1_genomic.fna.gz succefully downloaded\n",
      "ftp://ftp.ncbi.nlm.nih.gov/genomes/all/GCF/000/800/805/GCF_000800805.1_ASM80080v1/GCF_000800805.1_ASM80080v1_genomic.fna.gz succefully downloaded\n",
      "Downloading ftp://ftp.ncbi.nlm.nih.gov/genomes/all/GCF/000/800/805/GCF_000800805.1_ASM80080v1/GCF_000800805.1_ASM80080v1_genomic.fna.gz\n",
      "Downloading ftp://ftp.ncbi.nlm.nih.gov/genomes/all/GCF/900/083/515/GCF_900083515.1_ASM90008351v1/GCF_900083515.1_ASM90008351v1_genomic.fna.gz\n",
      "Downloading ftp://ftp.ncbi.nlm.nih.gov/genomes/all/GCF/000/152/265/GCF_000152265.2_ASM15226v2/GCF_000152265.2_ASM15226v2_genomic.fna.gz\n",
      "Downloading ftp://ftp.ncbi.nlm.nih.gov/genomes/all/GCF/000/008/265/GCF_000008265.1_ASM826v1/GCF_000008265.1_ASM826v1_genomic.fna.gz\n",
      "Downloading ftp://ftp.ncbi.nlm.nih.gov/genomes/all/GCF/000/195/915/GCF_000195915.1_ASM19591v1/GCF_000195915.1_ASM19591v1_genomic.fna.gz\n",
      "ftp://ftp.ncbi.nlm.nih.gov/genomes/all/GCF/000/008/265/GCF_000008265.1_ASM826v1/GCF_000008265.1_ASM826v1_genomic.fna.gz succefully downloaded\n",
      "ftp://ftp.ncbi.nlm.nih.gov/genomes/all/GCF/000/195/915/GCF_000195915.1_ASM19591v1/GCF_000195915.1_ASM19591v1_genomic.fna.gz succefully downloaded\n",
      "ftp://ftp.ncbi.nlm.nih.gov/genomes/all/GCF/000/152/265/GCF_000152265.2_ASM15226v2/GCF_000152265.2_ASM15226v2_genomic.fna.gz succefully downloaded\n",
      "ftp://ftp.ncbi.nlm.nih.gov/genomes/all/GCF/000/800/805/GCF_000800805.1_ASM80080v1/GCF_000800805.1_ASM80080v1_genomic.fna.gz succefully downloaded\n",
      "ftp://ftp.ncbi.nlm.nih.gov/genomes/all/GCF/900/083/515/GCF_900083515.1_ASM90008351v1/GCF_900083515.1_ASM90008351v1_genomic.fna.gz succefully downloaded\n"
     ]
    },
    {
     "name": "stderr",
     "output_type": "stream",
     "text": [
      "/Users/pitikov_egor/Documents/to_karina/mms/install_genomes/src/install_functions.py:91: UserWarning: Some missing genome can't be downloaded\n",
      "  warnings.warn('Some missing genome can\\'t be downloaded')\n"
     ]
    }
   ],
   "source": [
    "info = ig.down_org(orgnames, dirname = 'data',\n",
    "             fasta = True,\n",
    "             gtf = False,\n",
    "             gbff = False,\n",
    "             ft = False,\n",
    "             proteins = False,\n",
    "             unzip = True)"
   ]
  },
  {
   "cell_type": "code",
   "execution_count": 130,
   "id": "4f29c0db",
   "metadata": {},
   "outputs": [],
   "source": [
    "o_to_name = {}\n",
    "here_fastas = 'data'\n",
    "for i in info:\n",
    "    if i:\n",
    "        o_to_name[i.org] = f'{here_fastas}/{i.ass_acc}_{i.ass_name}.fasta'\n",
    "        \n",
    "o_to_name['E. coli'] = f'{here_fastas}/GCF_000157115.2.fasta'"
   ]
  },
  {
   "attachments": {},
   "cell_type": "markdown",
   "id": "af16ea57",
   "metadata": {},
   "source": [
    "Делаем из генома строчку и случайно выбираем участок в 100 килобаз"
   ]
  },
  {
   "cell_type": "code",
   "execution_count": 56,
   "id": "9b81ee7e",
   "metadata": {},
   "outputs": [],
   "source": [
    "for rec in SeqIO.parse(o_to_name['E. coli'], 'fasta'):\n",
    "    genome = rec.seq\n",
    "    break"
   ]
  },
  {
   "cell_type": "code",
   "execution_count": 57,
   "id": "8df85bdb",
   "metadata": {},
   "outputs": [
    {
     "data": {
      "text/plain": [
       "(Seq('AATGAACCGTGAGGCTTAACCTTACAACGCCGAAGATGTTTTGGCGGATGAGAG...CAA'), 953648)"
      ]
     },
     "execution_count": 57,
     "metadata": {},
     "output_type": "execute_result"
    }
   ],
   "source": [
    "genome, len(genome)"
   ]
  },
  {
   "cell_type": "code",
   "execution_count": 156,
   "id": "7b98fba5",
   "metadata": {},
   "outputs": [],
   "source": [
    "strs = []\n",
    "for i in range(30):\n",
    "    strs.append(int(random.random()*len(genome)))"
   ]
  },
  {
   "cell_type": "code",
   "execution_count": 157,
   "id": "930e4c04",
   "metadata": {},
   "outputs": [],
   "source": [
    "def cut_genome(strs, genome = genome, size = PART_SIZE):\n",
    "    genome = str(genome)\n",
    "    lg = len(genome)\n",
    "    for st in strs:\n",
    "        if st + PART_SIZE >= lg:\n",
    "            yield genome[st:] + genome[:(lg+st)%lg]\n",
    "        else:\n",
    "            yield genome[st:st+PART_SIZE]"
   ]
  },
  {
   "cell_type": "code",
   "execution_count": 158,
   "id": "a48d1665",
   "metadata": {},
   "outputs": [],
   "source": [
    "genome_parts = cut_genome(strs)"
   ]
  },
  {
   "attachments": {},
   "cell_type": "markdown",
   "id": "890997b1",
   "metadata": {},
   "source": [
    "# Ну что, давайте тюнить ММки"
   ]
  },
  {
   "cell_type": "code",
   "execution_count": 159,
   "id": "775cbed5",
   "metadata": {},
   "outputs": [],
   "source": [
    "table_pars = {'model_depth': [], \n",
    "              'AIC': [], \n",
    "              'BIC': [], \n",
    "              'LnLikelihood': [],\n",
    "              'GC_context':[], \n",
    "              'N_context': []\n",
    "             }"
   ]
  },
  {
   "attachments": {},
   "cell_type": "markdown",
   "id": "cdfb2f5b",
   "metadata": {},
   "source": [
    "Просто тюним модели"
   ]
  },
  {
   "cell_type": "code",
   "execution_count": 160,
   "id": "8fb79a44",
   "metadata": {},
   "outputs": [
    {
     "data": {
      "application/vnd.jupyter.widget-view+json": {
       "model_id": "109dcbf602444567aafcf6dc935cdcf1",
       "version_major": 2,
       "version_minor": 0
      },
      "text/plain": [
       "Make MMs:   0%|          | 0/180 [00:00<?, ?it/s]"
      ]
     },
     "metadata": {},
     "output_type": "display_data"
    }
   ],
   "source": [
    "models = {}\n",
    "t = 0\n",
    "for q in tqdm_notebook(it.product(genome_parts, range(0, 6, 1)), desc=\"Make MMs\", total = 180):\n",
    "    i = q[0]\n",
    "    d = q[1]\n",
    "    model = mms.BasicModel(depth = d, pseudocounts = 1)\n",
    "    i = i.upper()\n",
    "    fitted = model.fit(i, alphabet = 'ATGCN')\n",
    "    models[t] = fitted\n",
    "    t += 1\n",
    "    i_counter = Counter(i)\n",
    "    GCcont = i_counter.get('G', 0) + i_counter.get('C', 0) + i_counter.get('g', 0) + i_counter.get('c', 0)\n",
    "    NAcont = i_counter.get('N', 0) + i_counter.get('n', 0)\n",
    "    table_pars['model_depth'].append(fitted._depth)\n",
    "    table_pars['AIC'].append(fitted.aic)\n",
    "    table_pars['BIC'].append(fitted.bic)\n",
    "    table_pars['LnLikelihood'].append(fitted.loglikelihood)\n",
    "    table_pars['GC_context'].append(GCcont)\n",
    "    table_pars['N_context'].append(NAcont)"
   ]
  },
  {
   "cell_type": "code",
   "execution_count": 161,
   "id": "6a63205a",
   "metadata": {},
   "outputs": [],
   "source": [
    "table_pars = pd.DataFrame(table_pars)"
   ]
  },
  {
   "attachments": {},
   "cell_type": "markdown",
   "id": "a86ce312",
   "metadata": {},
   "source": [
    "Получилась табличка с параметрами"
   ]
  },
  {
   "cell_type": "code",
   "execution_count": 162,
   "id": "29baf255",
   "metadata": {},
   "outputs": [
    {
     "data": {
      "text/html": [
       "<div>\n",
       "<style scoped>\n",
       "    .dataframe tbody tr th:only-of-type {\n",
       "        vertical-align: middle;\n",
       "    }\n",
       "\n",
       "    .dataframe tbody tr th {\n",
       "        vertical-align: top;\n",
       "    }\n",
       "\n",
       "    .dataframe thead th {\n",
       "        text-align: right;\n",
       "    }\n",
       "</style>\n",
       "<table border=\"1\" class=\"dataframe\">\n",
       "  <thead>\n",
       "    <tr style=\"text-align: right;\">\n",
       "      <th></th>\n",
       "      <th>model_depth</th>\n",
       "      <th>AIC</th>\n",
       "      <th>BIC</th>\n",
       "      <th>LnLikelihood</th>\n",
       "      <th>GC_context</th>\n",
       "      <th>N_context</th>\n",
       "    </tr>\n",
       "  </thead>\n",
       "  <tbody>\n",
       "    <tr>\n",
       "      <th>0</th>\n",
       "      <td>0</td>\n",
       "      <td>277057.338550</td>\n",
       "      <td>277104.903178</td>\n",
       "      <td>-138523.669275</td>\n",
       "      <td>51318</td>\n",
       "      <td>0</td>\n",
       "    </tr>\n",
       "    <tr>\n",
       "      <th>1</th>\n",
       "      <td>1</td>\n",
       "      <td>413407.958784</td>\n",
       "      <td>413693.346248</td>\n",
       "      <td>-206673.979392</td>\n",
       "      <td>51318</td>\n",
       "      <td>0</td>\n",
       "    </tr>\n",
       "    <tr>\n",
       "      <th>2</th>\n",
       "      <td>2</td>\n",
       "      <td>410232.903186</td>\n",
       "      <td>411707.403533</td>\n",
       "      <td>-204961.451593</td>\n",
       "      <td>51318</td>\n",
       "      <td>0</td>\n",
       "    </tr>\n",
       "    <tr>\n",
       "      <th>3</th>\n",
       "      <td>3</td>\n",
       "      <td>408633.930457</td>\n",
       "      <td>416053.988920</td>\n",
       "      <td>-203536.965229</td>\n",
       "      <td>51318</td>\n",
       "      <td>0</td>\n",
       "    </tr>\n",
       "    <tr>\n",
       "      <th>4</th>\n",
       "      <td>4</td>\n",
       "      <td>412001.271930</td>\n",
       "      <td>449149.089668</td>\n",
       "      <td>-202095.635965</td>\n",
       "      <td>51318</td>\n",
       "      <td>0</td>\n",
       "    </tr>\n",
       "    <tr>\n",
       "      <th>...</th>\n",
       "      <td>...</td>\n",
       "      <td>...</td>\n",
       "      <td>...</td>\n",
       "      <td>...</td>\n",
       "      <td>...</td>\n",
       "      <td>...</td>\n",
       "    </tr>\n",
       "    <tr>\n",
       "      <th>175</th>\n",
       "      <td>1</td>\n",
       "      <td>276851.158186</td>\n",
       "      <td>277136.545650</td>\n",
       "      <td>-138395.579093</td>\n",
       "      <td>49268</td>\n",
       "      <td>100</td>\n",
       "    </tr>\n",
       "    <tr>\n",
       "      <th>176</th>\n",
       "      <td>2</td>\n",
       "      <td>398708.961281</td>\n",
       "      <td>400183.461628</td>\n",
       "      <td>-199199.480640</td>\n",
       "      <td>49268</td>\n",
       "      <td>100</td>\n",
       "    </tr>\n",
       "    <tr>\n",
       "      <th>177</th>\n",
       "      <td>3</td>\n",
       "      <td>405706.261415</td>\n",
       "      <td>413126.319878</td>\n",
       "      <td>-202073.130708</td>\n",
       "      <td>49268</td>\n",
       "      <td>100</td>\n",
       "    </tr>\n",
       "    <tr>\n",
       "      <th>178</th>\n",
       "      <td>4</td>\n",
       "      <td>411812.463718</td>\n",
       "      <td>448960.281455</td>\n",
       "      <td>-202001.231859</td>\n",
       "      <td>49268</td>\n",
       "      <td>100</td>\n",
       "    </tr>\n",
       "    <tr>\n",
       "      <th>179</th>\n",
       "      <td>5</td>\n",
       "      <td>438370.278164</td>\n",
       "      <td>624156.735970</td>\n",
       "      <td>-199655.139082</td>\n",
       "      <td>49268</td>\n",
       "      <td>100</td>\n",
       "    </tr>\n",
       "  </tbody>\n",
       "</table>\n",
       "<p>180 rows × 6 columns</p>\n",
       "</div>"
      ],
      "text/plain": [
       "     model_depth            AIC            BIC   LnLikelihood  GC_context  \\\n",
       "0              0  277057.338550  277104.903178 -138523.669275       51318   \n",
       "1              1  413407.958784  413693.346248 -206673.979392       51318   \n",
       "2              2  410232.903186  411707.403533 -204961.451593       51318   \n",
       "3              3  408633.930457  416053.988920 -203536.965229       51318   \n",
       "4              4  412001.271930  449149.089668 -202095.635965       51318   \n",
       "..           ...            ...            ...            ...         ...   \n",
       "175            1  276851.158186  277136.545650 -138395.579093       49268   \n",
       "176            2  398708.961281  400183.461628 -199199.480640       49268   \n",
       "177            3  405706.261415  413126.319878 -202073.130708       49268   \n",
       "178            4  411812.463718  448960.281455 -202001.231859       49268   \n",
       "179            5  438370.278164  624156.735970 -199655.139082       49268   \n",
       "\n",
       "     N_context  \n",
       "0            0  \n",
       "1            0  \n",
       "2            0  \n",
       "3            0  \n",
       "4            0  \n",
       "..         ...  \n",
       "175        100  \n",
       "176        100  \n",
       "177        100  \n",
       "178        100  \n",
       "179        100  \n",
       "\n",
       "[180 rows x 6 columns]"
      ]
     },
     "execution_count": 162,
     "metadata": {},
     "output_type": "execute_result"
    }
   ],
   "source": [
    "table_pars"
   ]
  },
  {
   "attachments": {},
   "cell_type": "markdown",
   "id": "0c0bda20",
   "metadata": {},
   "source": [
    "Построим боксплоты аик, бик и правдоподобия. Везде есть сильные выбросы, хорошо себя показывают малые модели (кстати, если убрать из алфивита энки и оставить на случайном попадании букв - такого превосходства мелочи не наблюдается) - видимо, малые модели просто устойчивее к низкой или вообще нулевой частоте символов (наличие N в алфавите задано руками), что логично"
   ]
  },
  {
   "cell_type": "code",
   "execution_count": 163,
   "id": "cccabb62",
   "metadata": {
    "scrolled": false
   },
   "outputs": [
    {
     "data": {
      "text/plain": [
       "<AxesSubplot: xlabel='model_depth', ylabel='LnLikelihood'>"
      ]
     },
     "execution_count": 163,
     "metadata": {},
     "output_type": "execute_result"
    },
    {
     "data": {
      "image/png": "[encoded data removed]",
      "text/plain": [
       "<Figure size 1000x3000 with 3 Axes>"
      ]
     },
     "metadata": {},
     "output_type": "display_data"
    }
   ],
   "source": [
    "fig, ax = plt.subplots(3, 1, figsize = (10, 30))\n",
    "sns.boxplot(data = table_pars, y = 'AIC', x = 'model_depth', hue = 'model_depth', ax = ax[0])\n",
    "sns.boxplot(data = table_pars, y = 'BIC', hue = 'model_depth', x = 'model_depth', ax = ax[1])\n",
    "sns.boxplot(data = table_pars, y = 'LnLikelihood', hue = 'model_depth', x = 'model_depth', ax = ax[2])"
   ]
  },
  {
   "attachments": {},
   "cell_type": "markdown",
   "id": "8d0ceb61",
   "metadata": {},
   "source": [
    "Табличка с паметрами подтверждает увиденное на боксплоте - легкие модели работат немного лучше (ну, по построению критерия в том числе))) - их и оставим - возьмем модели глубины 2 и 3"
   ]
  },
  {
   "cell_type": "code",
   "execution_count": 165,
   "id": "e11a185e",
   "metadata": {},
   "outputs": [
    {
     "data": {
      "text/html": [
       "<div>\n",
       "<style scoped>\n",
       "    .dataframe tbody tr th:only-of-type {\n",
       "        vertical-align: middle;\n",
       "    }\n",
       "\n",
       "    .dataframe tbody tr th {\n",
       "        vertical-align: top;\n",
       "    }\n",
       "\n",
       "    .dataframe thead th {\n",
       "        text-align: right;\n",
       "    }\n",
       "</style>\n",
       "<table border=\"1\" class=\"dataframe\">\n",
       "  <thead>\n",
       "    <tr style=\"text-align: right;\">\n",
       "      <th></th>\n",
       "      <th>model_depth</th>\n",
       "      <th>AIC</th>\n",
       "      <th>BIC</th>\n",
       "      <th>LnLikelihood</th>\n",
       "      <th>GC_context</th>\n",
       "      <th>N_context</th>\n",
       "    </tr>\n",
       "  </thead>\n",
       "  <tbody>\n",
       "    <tr>\n",
       "      <th>61</th>\n",
       "      <td>1</td>\n",
       "      <td>275389.000293</td>\n",
       "      <td>275674.387757</td>\n",
       "      <td>-137664.500146</td>\n",
       "      <td>50621</td>\n",
       "      <td>300</td>\n",
       "    </tr>\n",
       "    <tr>\n",
       "      <th>169</th>\n",
       "      <td>1</td>\n",
       "      <td>275757.048582</td>\n",
       "      <td>276042.436046</td>\n",
       "      <td>-137848.524291</td>\n",
       "      <td>50552</td>\n",
       "      <td>200</td>\n",
       "    </tr>\n",
       "    <tr>\n",
       "      <th>73</th>\n",
       "      <td>1</td>\n",
       "      <td>275898.198852</td>\n",
       "      <td>276183.586316</td>\n",
       "      <td>-137919.099426</td>\n",
       "      <td>50439</td>\n",
       "      <td>200</td>\n",
       "    </tr>\n",
       "    <tr>\n",
       "      <th>156</th>\n",
       "      <td>0</td>\n",
       "      <td>276851.552617</td>\n",
       "      <td>276899.117244</td>\n",
       "      <td>-138420.776309</td>\n",
       "      <td>47244</td>\n",
       "      <td>0</td>\n",
       "    </tr>\n",
       "    <tr>\n",
       "      <th>43</th>\n",
       "      <td>1</td>\n",
       "      <td>276642.524980</td>\n",
       "      <td>276927.912444</td>\n",
       "      <td>-138291.262490</td>\n",
       "      <td>49388</td>\n",
       "      <td>100</td>\n",
       "    </tr>\n",
       "    <tr>\n",
       "      <th>36</th>\n",
       "      <td>0</td>\n",
       "      <td>276893.003791</td>\n",
       "      <td>276940.568418</td>\n",
       "      <td>-138441.501896</td>\n",
       "      <td>47340</td>\n",
       "      <td>0</td>\n",
       "    </tr>\n",
       "    <tr>\n",
       "      <th>103</th>\n",
       "      <td>1</td>\n",
       "      <td>276701.562173</td>\n",
       "      <td>276986.949637</td>\n",
       "      <td>-138320.781086</td>\n",
       "      <td>51089</td>\n",
       "      <td>100</td>\n",
       "    </tr>\n",
       "    <tr>\n",
       "      <th>139</th>\n",
       "      <td>1</td>\n",
       "      <td>276786.082818</td>\n",
       "      <td>277071.470282</td>\n",
       "      <td>-138363.041409</td>\n",
       "      <td>50023</td>\n",
       "      <td>100</td>\n",
       "    </tr>\n",
       "    <tr>\n",
       "      <th>0</th>\n",
       "      <td>0</td>\n",
       "      <td>277057.338550</td>\n",
       "      <td>277104.903178</td>\n",
       "      <td>-138523.669275</td>\n",
       "      <td>51318</td>\n",
       "      <td>0</td>\n",
       "    </tr>\n",
       "    <tr>\n",
       "      <th>48</th>\n",
       "      <td>0</td>\n",
       "      <td>277073.666183</td>\n",
       "      <td>277121.230810</td>\n",
       "      <td>-138531.833091</td>\n",
       "      <td>51747</td>\n",
       "      <td>0</td>\n",
       "    </tr>\n",
       "    <tr>\n",
       "      <th>18</th>\n",
       "      <td>0</td>\n",
       "      <td>277074.003592</td>\n",
       "      <td>277121.568219</td>\n",
       "      <td>-138532.001796</td>\n",
       "      <td>51955</td>\n",
       "      <td>0</td>\n",
       "    </tr>\n",
       "    <tr>\n",
       "      <th>175</th>\n",
       "      <td>1</td>\n",
       "      <td>276851.158186</td>\n",
       "      <td>277136.545650</td>\n",
       "      <td>-138395.579093</td>\n",
       "      <td>49268</td>\n",
       "      <td>100</td>\n",
       "    </tr>\n",
       "    <tr>\n",
       "      <th>96</th>\n",
       "      <td>0</td>\n",
       "      <td>277093.819150</td>\n",
       "      <td>277141.383777</td>\n",
       "      <td>-138541.909575</td>\n",
       "      <td>51733</td>\n",
       "      <td>0</td>\n",
       "    </tr>\n",
       "    <tr>\n",
       "      <th>24</th>\n",
       "      <td>0</td>\n",
       "      <td>277098.188213</td>\n",
       "      <td>277145.752840</td>\n",
       "      <td>-138544.094106</td>\n",
       "      <td>51862</td>\n",
       "      <td>0</td>\n",
       "    </tr>\n",
       "    <tr>\n",
       "      <th>144</th>\n",
       "      <td>0</td>\n",
       "      <td>277107.551750</td>\n",
       "      <td>277155.116377</td>\n",
       "      <td>-138548.775875</td>\n",
       "      <td>51802</td>\n",
       "      <td>0</td>\n",
       "    </tr>\n",
       "    <tr>\n",
       "      <th>150</th>\n",
       "      <td>0</td>\n",
       "      <td>277111.562542</td>\n",
       "      <td>277159.127169</td>\n",
       "      <td>-138550.781271</td>\n",
       "      <td>51175</td>\n",
       "      <td>0</td>\n",
       "    </tr>\n",
       "    <tr>\n",
       "      <th>90</th>\n",
       "      <td>0</td>\n",
       "      <td>277117.970911</td>\n",
       "      <td>277165.535539</td>\n",
       "      <td>-138553.985456</td>\n",
       "      <td>51187</td>\n",
       "      <td>0</td>\n",
       "    </tr>\n",
       "    <tr>\n",
       "      <th>12</th>\n",
       "      <td>0</td>\n",
       "      <td>277120.979773</td>\n",
       "      <td>277168.544400</td>\n",
       "      <td>-138555.489886</td>\n",
       "      <td>51523</td>\n",
       "      <td>0</td>\n",
       "    </tr>\n",
       "    <tr>\n",
       "      <th>108</th>\n",
       "      <td>0</td>\n",
       "      <td>277148.859642</td>\n",
       "      <td>277196.424269</td>\n",
       "      <td>-138569.429821</td>\n",
       "      <td>50979</td>\n",
       "      <td>0</td>\n",
       "    </tr>\n",
       "    <tr>\n",
       "      <th>120</th>\n",
       "      <td>0</td>\n",
       "      <td>277149.439974</td>\n",
       "      <td>277197.004602</td>\n",
       "      <td>-138569.719987</td>\n",
       "      <td>51025</td>\n",
       "      <td>0</td>\n",
       "    </tr>\n",
       "  </tbody>\n",
       "</table>\n",
       "</div>"
      ],
      "text/plain": [
       "     model_depth            AIC            BIC   LnLikelihood  GC_context  \\\n",
       "61             1  275389.000293  275674.387757 -137664.500146       50621   \n",
       "169            1  275757.048582  276042.436046 -137848.524291       50552   \n",
       "73             1  275898.198852  276183.586316 -137919.099426       50439   \n",
       "156            0  276851.552617  276899.117244 -138420.776309       47244   \n",
       "43             1  276642.524980  276927.912444 -138291.262490       49388   \n",
       "36             0  276893.003791  276940.568418 -138441.501896       47340   \n",
       "103            1  276701.562173  276986.949637 -138320.781086       51089   \n",
       "139            1  276786.082818  277071.470282 -138363.041409       50023   \n",
       "0              0  277057.338550  277104.903178 -138523.669275       51318   \n",
       "48             0  277073.666183  277121.230810 -138531.833091       51747   \n",
       "18             0  277074.003592  277121.568219 -138532.001796       51955   \n",
       "175            1  276851.158186  277136.545650 -138395.579093       49268   \n",
       "96             0  277093.819150  277141.383777 -138541.909575       51733   \n",
       "24             0  277098.188213  277145.752840 -138544.094106       51862   \n",
       "144            0  277107.551750  277155.116377 -138548.775875       51802   \n",
       "150            0  277111.562542  277159.127169 -138550.781271       51175   \n",
       "90             0  277117.970911  277165.535539 -138553.985456       51187   \n",
       "12             0  277120.979773  277168.544400 -138555.489886       51523   \n",
       "108            0  277148.859642  277196.424269 -138569.429821       50979   \n",
       "120            0  277149.439974  277197.004602 -138569.719987       51025   \n",
       "\n",
       "     N_context  \n",
       "61         300  \n",
       "169        200  \n",
       "73         200  \n",
       "156          0  \n",
       "43         100  \n",
       "36           0  \n",
       "103        100  \n",
       "139        100  \n",
       "0            0  \n",
       "48           0  \n",
       "18           0  \n",
       "175        100  \n",
       "96           0  \n",
       "24           0  \n",
       "144          0  \n",
       "150          0  \n",
       "90           0  \n",
       "12           0  \n",
       "108          0  \n",
       "120          0  "
      ]
     },
     "execution_count": 165,
     "metadata": {},
     "output_type": "execute_result"
    }
   ],
   "source": [
    "table_pars.sort_values(by = ['BIC'], ascending = True).iloc[:20, :]"
   ]
  },
  {
   "attachments": {},
   "cell_type": "markdown",
   "id": "d529fae3",
   "metadata": {},
   "source": [
    " самое время строить распределение правдоподобия - а для полного счастья построю его же на археях (как на совсем других ребятах, с другими частотами к-меров и с другими механизмами регуляции)"
   ]
  },
  {
   "cell_type": "code",
   "execution_count": 166,
   "id": "d6439d4d",
   "metadata": {},
   "outputs": [],
   "source": [
    "good_index = {61: 1, 156: 0}"
   ]
  },
  {
   "cell_type": "code",
   "execution_count": 172,
   "id": "4cd35f04",
   "metadata": {},
   "outputs": [],
   "source": [
    "for rec in SeqIO.parse(o_to_name['Cuniculiplasma divulgatum (archaea)'], 'fasta'):\n",
    "    genome_arch = rec.seq\n",
    "    break\n",
    "\n",
    "ctrs = (int(random.random()*len(genome)) for i in range(1000))\n",
    "new_parts_coli = cut_genome(ctrs, size = 1000)\n",
    "ctrs = (int(random.random()*len(genome_arch)) for i in range(1000))\n",
    "new_parts_arch = cut_genome(ctrs, size = 1000, genome = genome_arch)"
   ]
  },
  {
   "cell_type": "code",
   "execution_count": 173,
   "id": "1c5c1258",
   "metadata": {},
   "outputs": [
    {
     "data": {
      "application/vnd.jupyter.widget-view+json": {
       "model_id": "2ae8964a9ba0497cae323f47653b3589",
       "version_major": 2,
       "version_minor": 0
      },
      "text/plain": [
       "Make preds coli:   0%|          | 0/1000 [00:00<?, ?it/s]"
      ]
     },
     "metadata": {},
     "output_type": "display_data"
    },
    {
     "data": {
      "application/vnd.jupyter.widget-view+json": {
       "model_id": "084c6466b27d45e195c17b112a3d18ad",
       "version_major": 2,
       "version_minor": 0
      },
      "text/plain": [
       "Make preds Cuniculiplasma:   0%|          | 0/1000 [00:00<?, ?it/s]"
      ]
     },
     "metadata": {},
     "output_type": "display_data"
    }
   ],
   "source": [
    "preds = {'depth': [], 'organism': [], 'lnlikelihood': []}\n",
    "for q in tqdm_notebook(new_parts_coli, desc=\"Make preds coli\", total = 1000):\n",
    "    for m in good_index.keys():\n",
    "        ll = models[m].predict_prob(q)\n",
    "        preds['depth'].append(good_index[m])\n",
    "        preds['organism'].append('E. coli')\n",
    "        preds['lnlikelihood'].append(ll)\n",
    "        \n",
    "for q in tqdm_notebook(new_parts_arch, desc=\"Make preds Cuniculiplasma\", total = 1000):\n",
    "    for m in good_index.keys():\n",
    "        ll = models[m].predict_prob(q)\n",
    "        preds['depth'].append(good_index[m])\n",
    "        preds['organism'].append('Cuniculiplasma divulgatum')\n",
    "        preds['lnlikelihood'].append(ll)"
   ]
  },
  {
   "cell_type": "code",
   "execution_count": 175,
   "id": "a9d36c2f",
   "metadata": {},
   "outputs": [],
   "source": [
    "preds = pd.DataFrame(preds)"
   ]
  },
  {
   "cell_type": "code",
   "execution_count": 176,
   "id": "717fb0fc",
   "metadata": {},
   "outputs": [
    {
     "data": {
      "text/html": [
       "<div>\n",
       "<style scoped>\n",
       "    .dataframe tbody tr th:only-of-type {\n",
       "        vertical-align: middle;\n",
       "    }\n",
       "\n",
       "    .dataframe tbody tr th {\n",
       "        vertical-align: top;\n",
       "    }\n",
       "\n",
       "    .dataframe thead th {\n",
       "        text-align: right;\n",
       "    }\n",
       "</style>\n",
       "<table border=\"1\" class=\"dataframe\">\n",
       "  <thead>\n",
       "    <tr style=\"text-align: right;\">\n",
       "      <th></th>\n",
       "      <th>depth</th>\n",
       "      <th>organism</th>\n",
       "      <th>lnlikelihood</th>\n",
       "    </tr>\n",
       "  </thead>\n",
       "  <tbody>\n",
       "    <tr>\n",
       "      <th>0</th>\n",
       "      <td>1</td>\n",
       "      <td>E. coli</td>\n",
       "      <td>-138235.835609</td>\n",
       "    </tr>\n",
       "    <tr>\n",
       "      <th>1</th>\n",
       "      <td>0</td>\n",
       "      <td>E. coli</td>\n",
       "      <td>-138679.563277</td>\n",
       "    </tr>\n",
       "    <tr>\n",
       "      <th>2</th>\n",
       "      <td>1</td>\n",
       "      <td>E. coli</td>\n",
       "      <td>-137966.631020</td>\n",
       "    </tr>\n",
       "    <tr>\n",
       "      <th>3</th>\n",
       "      <td>0</td>\n",
       "      <td>E. coli</td>\n",
       "      <td>-138879.424783</td>\n",
       "    </tr>\n",
       "    <tr>\n",
       "      <th>4</th>\n",
       "      <td>1</td>\n",
       "      <td>E. coli</td>\n",
       "      <td>-138029.297270</td>\n",
       "    </tr>\n",
       "    <tr>\n",
       "      <th>...</th>\n",
       "      <td>...</td>\n",
       "      <td>...</td>\n",
       "      <td>...</td>\n",
       "    </tr>\n",
       "    <tr>\n",
       "      <th>3995</th>\n",
       "      <td>0</td>\n",
       "      <td>Cuniculiplasma divulgatum</td>\n",
       "      <td>-137464.958962</td>\n",
       "    </tr>\n",
       "    <tr>\n",
       "      <th>3996</th>\n",
       "      <td>1</td>\n",
       "      <td>Cuniculiplasma divulgatum</td>\n",
       "      <td>-139297.967507</td>\n",
       "    </tr>\n",
       "    <tr>\n",
       "      <th>3997</th>\n",
       "      <td>0</td>\n",
       "      <td>Cuniculiplasma divulgatum</td>\n",
       "      <td>-137431.356043</td>\n",
       "    </tr>\n",
       "    <tr>\n",
       "      <th>3998</th>\n",
       "      <td>1</td>\n",
       "      <td>Cuniculiplasma divulgatum</td>\n",
       "      <td>-139021.129575</td>\n",
       "    </tr>\n",
       "    <tr>\n",
       "      <th>3999</th>\n",
       "      <td>0</td>\n",
       "      <td>Cuniculiplasma divulgatum</td>\n",
       "      <td>-137434.854168</td>\n",
       "    </tr>\n",
       "  </tbody>\n",
       "</table>\n",
       "<p>4000 rows × 3 columns</p>\n",
       "</div>"
      ],
      "text/plain": [
       "      depth                   organism   lnlikelihood\n",
       "0         1                    E. coli -138235.835609\n",
       "1         0                    E. coli -138679.563277\n",
       "2         1                    E. coli -137966.631020\n",
       "3         0                    E. coli -138879.424783\n",
       "4         1                    E. coli -138029.297270\n",
       "...     ...                        ...            ...\n",
       "3995      0  Cuniculiplasma divulgatum -137464.958962\n",
       "3996      1  Cuniculiplasma divulgatum -139297.967507\n",
       "3997      0  Cuniculiplasma divulgatum -137431.356043\n",
       "3998      1  Cuniculiplasma divulgatum -139021.129575\n",
       "3999      0  Cuniculiplasma divulgatum -137434.854168\n",
       "\n",
       "[4000 rows x 3 columns]"
      ]
     },
     "execution_count": 176,
     "metadata": {},
     "output_type": "execute_result"
    }
   ],
   "source": [
    "preds"
   ]
  },
  {
   "attachments": {},
   "cell_type": "markdown",
   "id": "849c39c5",
   "metadata": {},
   "source": [
    "с распределением логарифма правдоподобия все сложно - оно сжалось до палки. Заметно, что у эшерихии большее число учатков имеют высокое правдоподобие - что неудивительно, на ней же смотрели к-меры. Модели глубины один показывают себя лучше - что тоже неудивительно, больше знают))) Можно попробовать улучшить показания моделей просто аккуратно убрав энки."
   ]
  },
  {
   "cell_type": "code",
   "execution_count": 185,
   "id": "ebea9b87",
   "metadata": {
    "scrolled": false
   },
   "outputs": [
    {
     "data": {
      "image/png": "[encoded data removed]",
      "text/plain": [
       "<Figure size 1000x2000 with 2 Axes>"
      ]
     },
     "metadata": {},
     "output_type": "display_data"
    }
   ],
   "source": [
    "fig, ax = plt.subplots(2, 1, figsize = (10, 20))\n",
    "sns.histplot(data = preds[preds.organism == 'E. coli'], \n",
    "             x = 'lnlikelihood', \n",
    "             hue = 'depth', ax = ax[0])\n",
    "ax[0].set_title('E. coli Ln likelihood distribution')\n",
    "sns.histplot(data = preds[preds.organism == 'Cuniculiplasma divulgatum'], \n",
    "             x = 'lnlikelihood', \n",
    "             hue = 'depth', ax = ax[1])\n",
    "ax[1].set_title('Cuniculiplasma divulgatum Ln likelihood distribution')\n",
    "\n",
    "plt.show()"
   ]
  },
  {
   "cell_type": "code",
   "execution_count": null,
   "id": "fea61dbb",
   "metadata": {},
   "outputs": [],
   "source": []
  }
 ],
 "metadata": {
  "kernelspec": {
   "display_name": "Python 3 (ipykernel)",
   "language": "python",
   "name": "python3"
  },
  "language_info": {
   "codemirror_mode": {
    "name": "ipython",
    "version": 3
   },
   "file_extension": ".py",
   "mimetype": "text/x-python",
   "name": "python",
   "nbconvert_exporter": "python",
   "pygments_lexer": "ipython3",
   "version": "3.10.8"
  }
 },
 "nbformat": 4,
 "nbformat_minor": 5
}
